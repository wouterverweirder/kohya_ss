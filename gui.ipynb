{
  "cells": [
    {
      "cell_type": "code",
      "execution_count": null,
      "metadata": {
        "id": "jp8p6rrzLHlv"
      },
      "outputs": [],
      "source": [
        "from google.colab import drive\n",
        "drive.mount('/content/gdrive')"
      ]
    },
    {
      "cell_type": "code",
      "execution_count": null,
      "metadata": {
        "cellView": "form",
        "id": "xF0KWC99LHl0"
      },
      "outputs": [],
      "source": [
        "#@markdown # Install/Update Kohya_ss WebUI\n",
        "import time\n",
        "\n",
        "%mkdir -p /content/gdrive/MyDrive/sd\n",
        "%cd /content/gdrive/MyDrive/sd\n",
        "!git clone --branch colab https://github.com/wouterverweirder/kohya_ss kohya_ss\n",
        "!mkdir -p /content/gdrive/MyDrive/sd/kohya_ss/cache/huggingface\n",
        "!ln -s /content/gdrive/MyDrive/sd/kohya_ss/cache/huggingface /root/.cache/\n",
        "%cd /content/gdrive/MyDrive/sd/kohya_ss/\n",
        "!git reset --hard\n",
        "time.sleep(1)\n",
        "!git pull"
      ]
    },
    {
      "cell_type": "code",
      "execution_count": null,
      "metadata": {},
      "outputs": [],
      "source": [
        "#@markdown # Optional: Checkout version where BLIP captioning worked...\n",
        "%cd /content/gdrive/MyDrive/sd/kohya_ss/\n",
        "!git config core.fileMode false\n",
        "!git checkout 47cd328"
      ]
    },
    {
      "cell_type": "code",
      "execution_count": null,
      "metadata": {
        "cellView": "form",
        "id": "JwvimXEoLHl1"
      },
      "outputs": [],
      "source": [
        "#@markdown # Requirements\n",
        "%cd /content/gdrive/MyDrive/sd/kohya_ss/\n",
        "!pip install -r requirements_linux.txt"
      ]
    },
    {
      "cell_type": "code",
      "execution_count": null,
      "metadata": {
        "cellView": "form",
        "id": "2BCEP_xXLHl2"
      },
      "outputs": [],
      "source": [
        "#@markdown # Start Kohya ss WebUI\n",
        "\n",
        "User = \"\" #@param {type:\"string\"}\n",
        "Password = \"\" #@param {type:\"string\"}\n",
        "#@markdown - Add credentials to your Gradio interface (optional).\n",
        "%cd /content/gdrive/MyDrive/sd/kohya_ss/\n",
        "if User and Password:\n",
        "    !python kohya_gui.py --username $User --password $Password\n",
        "else:\n",
        "    !python kohya_gui.py"
      ]
    }
  ],
  "metadata": {
    "accelerator": "GPU",
    "colab": {
      "provenance": []
    },
    "gpuClass": "standard",
    "kernelspec": {
      "display_name": "Python 3",
      "language": "python",
      "name": "python3"
    },
    "language_info": {
      "codemirror_mode": {
        "name": "ipython",
        "version": 2
      },
      "file_extension": ".py",
      "mimetype": "text/x-python",
      "name": "python",
      "nbconvert_exporter": "python",
      "pygments_lexer": "ipython2",
      "version": "2.7.6"
    }
  },
  "nbformat": 4,
  "nbformat_minor": 0
}
